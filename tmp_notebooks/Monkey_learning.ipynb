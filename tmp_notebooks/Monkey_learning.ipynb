{
 "cells": [
  {
   "cell_type": "code",
   "execution_count": 1,
   "metadata": {},
   "outputs": [],
   "source": [
    "%matplotlib inline\n",
    "\n",
    "import matplotlib\n",
    "import matplotlib.pyplot as plt\n",
    "import seaborn as sns\n",
    "\n",
    "sns.set_style('ticks', {\"axes.linewidth\": \"1\",'axes.yaxis.grid':False})"
   ]
  },
  {
   "cell_type": "code",
   "execution_count": 2,
   "metadata": {},
   "outputs": [],
   "source": [
    "import sys\n",
    "PATH_ = '/om/user/rishir/lib/MentalPong/behavior/'\n",
    "sys.path.insert(0, PATH_)\n",
    "\n",
    "from rnn_analysis import utils\n",
    "import numpy as np\n",
    "import pickle as pk\n",
    "import pandas as pd\n",
    "import BehavioralCharacterizer as BC\n",
    "\n",
    "import warnings\n",
    "warnings.filterwarnings(\"ignore\", category=DeprecationWarning)\n",
    "warnings.filterwarnings(\"ignore\", category=RuntimeWarning)"
   ]
  },
  {
   "cell_type": "code",
   "execution_count": 3,
   "metadata": {},
   "outputs": [],
   "source": [
    "figoutpath = '/om/user/rishir/figs/mpong/hum_monk/'"
   ]
  },
  {
   "cell_type": "code",
   "execution_count": 5,
   "metadata": {},
   "outputs": [
    {
     "name": "stderr",
     "output_type": "stream",
     "text": [
      "/home/rishir/envs/py36/lib/python3.6/site-packages/ipykernel_launcher.py:18: SettingWithCopyWarning: \n",
      "A value is trying to be set on a copy of a slice from a DataFrame\n",
      "\n",
      "See the caveats in the documentation: https://pandas.pydata.org/pandas-docs/stable/user_guide/indexing.html#returning-a-view-versus-a-copy\n"
     ]
    }
   ],
   "source": [
    "fns = [\n",
    "'monkey_CP_pong_basic'\n",
    "]\n",
    "datapath = '/om/user/rishir/data/behavior/'\n",
    "data = {}\n",
    "for fn in fns:\n",
    "    fn_full = '%s/%s.pkl' % (datapath, fn)\n",
    "    dat = pk.load(open(fn_full, 'rb'))\n",
    "    df = dat.datasets[0]['scalar'].query('ignore == 0 & occ_alpha == 1').reset_index(drop=True)\n",
    "    df['session_date'] = df['session_date'].astype(int)\n",
    "    days = sorted(list(np.unique(df['session_date'])))\n",
    "    df['session_index'] = np.array([days.index(i) for i in df['session_date']])\n",
    "    data[fn] = df\n",
    "    \n",
    "# fill dataset column when it was leftout\n",
    "df = data['monkey_CP_pong_basic']\n",
    "t = np.isnan(df['dataset_idx'])\n",
    "df['dataset_idx'][t] = 0"
   ]
  },
  {
   "cell_type": "code",
   "execution_count": 6,
   "metadata": {},
   "outputs": [],
   "source": [
    "fns = [\n",
    "'perle_pong_basic_learning',\n",
    "'perle_pong_basic_generalization',\n",
    "'perle_pong_basic',\n",
    "'carmen_pong_basic_learning',\n",
    "'carmen_pong_basic_generalization',\n",
    "'carmen_pong_basic',\n",
    "'human_pong_basic',\n",
    "'monkey_CP_pong_basic',\n",
    "      ]\n",
    "datapath = '/om/user/rishir/data/behavior/'\n",
    "data_dict = {'ignore == 0 & occ_alpha == 1': {},\n",
    "             'ignore == 0 & occ_alpha != 1':{}\n",
    "            }\n",
    "for fn in fns:\n",
    "    fn_full = '%s/%s.pkl' % (datapath, fn)\n",
    "    dat = pk.load(open(fn_full, 'rb'))\n",
    "    for dfn in data_dict.keys():\n",
    "        df = dat.datasets[0]['scalar'].query(dfn).reset_index(drop=True)\n",
    "        df['session_date'] = df['session_date'].astype(int)\n",
    "        days = sorted(list(np.unique(df['session_date'])))\n",
    "        df['session_index'] = np.array([days.index(i) for i in df['session_date']])\n",
    "        data_dict[dfn][fn] = df"
   ]
  },
  {
   "cell_type": "code",
   "execution_count": 7,
   "metadata": {},
   "outputs": [
    {
     "data": {
      "image/png": "[encoded data removed]",
      "text/plain": [
       "<Figure size 180x288 with 1 Axes>"
      ]
     },
     "metadata": {},
     "output_type": "display_data"
    }
   ],
   "source": [
    "f,ax = plt.subplots(figsize=(2.5,4))\n",
    "\n",
    "plot_var = 'paddle_error'\n",
    "cols =  ['#1234aa', '#34aa12']\n",
    "learning_data = ['perle_pong_basic_learning','carmen_pong_basic_learning']\n",
    "generalization_data = ['perle_pong_basic_generalization', 'carmen_pong_basic_generalization']\n",
    "steady_state_data = ['perle_pong_basic', 'carmen_pong_basic']\n",
    "human_data = ['human_pong_basic']\n",
    "null_error_f_mae = 6.272538362653939 # just copied over from notebook RNN2Primates\n",
    "\n",
    "for dfi, dfk in enumerate(['ignore == 0 & occ_alpha == 1']):\n",
    "    data = data_dict[dfk].copy()\n",
    "    training_conditions = np.unique(data['carmen_pong_basic_learning']['py_meta_index'])\n",
    "    alpha = 1.0\n",
    "    for fni,fn in enumerate(learning_data):\n",
    "        g = data[fn].query('session_index<5').groupby('session_index')[plot_var]\n",
    "        ax.errorbar(g.mean().index, g.mean(), yerr=g.sem(), \n",
    "                    fmt='-o', color=cols[fni], markersize=5, alpha=alpha)\n",
    "\n",
    "    x_offset_1 = 7\n",
    "    for fni, fn in enumerate(generalization_data):\n",
    "        df2 = data[fn].groupby('py_meta_index').head(1)\n",
    "        t = df2['py_meta_index'].isin(training_conditions) == False\n",
    "        df2 = df2[t]\n",
    "        g = df2[plot_var]\n",
    "        ax.errorbar(x_offset_1+fni*0.5, g.mean(), yerr=g.sem(), fmt='D',\n",
    "                    color=cols[fni], markersize=5, alpha=alpha)\n",
    "    \n",
    "    x_offset_2 = 9\n",
    "    for fn, col in zip(['human_pong_basic', 'monkey_CP_pong_basic'], ['r', 'b']):\n",
    "        df2 = data[fn].groupby('py_meta_index').head(1)\n",
    "        g = df2[plot_var]\n",
    "        ax.plot(x_offset_2, g.mean(), marker='<', color=col, markersize=5)\n",
    "    ax.axhline(null_error_f_mae, ls='--', color='k')\n",
    "    ax.set_ylim([0,7])\n",
    "    ax.set_xticks([0,1,2,3,4,x_offset_1])\n",
    "    sns.despine(ax=ax, offset=10, trim=False)\n",
    "plt.tight_layout()\n",
    "f.savefig('%s/monkey_learning_new.pdf' % figoutpath)\n",
    "    \n"
   ]
  }
 ],
 "metadata": {
  "kernelspec": {
   "display_name": "Python 3",
   "language": "python",
   "name": "python3"
  },
  "language_info": {
   "codemirror_mode": {
    "name": "ipython",
    "version": 3
   },
   "file_extension": ".py",
   "mimetype": "text/x-python",
   "name": "python",
   "nbconvert_exporter": "python",
   "pygments_lexer": "ipython3",
   "version": "3.6.2"
  }
 },
 "nbformat": 4,
 "nbformat_minor": 2
}
